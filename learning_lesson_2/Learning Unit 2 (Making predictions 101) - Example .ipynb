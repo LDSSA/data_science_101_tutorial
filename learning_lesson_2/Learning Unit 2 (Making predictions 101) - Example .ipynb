{
 "cells": [
  {
   "cell_type": "markdown",
   "metadata": {},
   "source": [
    "# Learning Unit 2 - Making predictions 101 - Example "
   ]
  },
  {
   "cell_type": "code",
   "execution_count": null,
   "metadata": {},
   "outputs": [],
   "source": [
    "# Imports, feel free to ignore \n",
    "import pandas as pd \n",
    "\n",
    "from sklearn.model_selection import train_test_split\n",
    "from sklearn.linear_model import LogisticRegression\n",
    "from sklearn.tree import DecisionTreeClassifier\n",
    "from sklearn.neighbors import KNeighborsClassifier\n",
    "from sklearn.metrics import accuracy_score\n",
    "\n",
    "import matplotlib.pyplot as plt\n",
    "% matplotlib inline \n",
    "\n",
    "from utils import plot_boundaries, get_ying_yang, scatterplot, plot_tree\n",
    "\n",
    "# In the odd chance that you have problems with graphviz, use the following instead: \n",
    "# from utils_safety import plot_boundaries, get_ying_yang, scatterplot"
   ]
  },
  {
   "cell_type": "markdown",
   "metadata": {},
   "source": [
    "## 1 - Binary Classification "
   ]
  },
  {
   "cell_type": "markdown",
   "metadata": {},
   "source": [
    "You might have noticed something about the exercise and examples: we are interested in _\"whether a mushroom is poisonous, or not\"_, and _\"Whether a Titanic passenger survived, or not\"_. \n",
    "\n",
    "This type of problem, where you are trying to predict which of 2 classes an observation belongs to, is called [Binary Classification](https://en.wikipedia.org/wiki/Binary_classification)."
   ]
  },
  {
   "cell_type": "markdown",
   "metadata": {},
   "source": [
    "To demonstrate this, we will be using an extremely simple dataset:"
   ]
  },
  {
   "cell_type": "code",
   "execution_count": 2,
   "metadata": {},
   "outputs": [],
   "source": [
    "simple = get_ying_yang()   # often df is used as shorthand for dataframe "
   ]
  },
  {
   "cell_type": "markdown",
   "metadata": {},
   "source": [
    "It just has 2 features, `a`, and `b`, and we will be trying to predict `c`. "
   ]
  },
  {
   "cell_type": "code",
   "execution_count": 3,
   "metadata": {},
   "outputs": [
    {
     "data": {
      "text/html": [
       "<div>\n",
       "<style>\n",
       "    .dataframe thead tr:only-child th {\n",
       "        text-align: right;\n",
       "    }\n",
       "\n",
       "    .dataframe thead th {\n",
       "        text-align: left;\n",
       "    }\n",
       "\n",
       "    .dataframe tbody tr th {\n",
       "        vertical-align: top;\n",
       "    }\n",
       "</style>\n",
       "<table border=\"1\" class=\"dataframe\">\n",
       "  <thead>\n",
       "    <tr style=\"text-align: right;\">\n",
       "      <th></th>\n",
       "      <th>a</th>\n",
       "      <th>b</th>\n",
       "      <th>c</th>\n",
       "    </tr>\n",
       "  </thead>\n",
       "  <tbody>\n",
       "    <tr>\n",
       "      <th>0</th>\n",
       "      <td>0.031595</td>\n",
       "      <td>0.986988</td>\n",
       "      <td>0</td>\n",
       "    </tr>\n",
       "    <tr>\n",
       "      <th>1</th>\n",
       "      <td>2.115098</td>\n",
       "      <td>-0.046244</td>\n",
       "      <td>1</td>\n",
       "    </tr>\n",
       "  </tbody>\n",
       "</table>\n",
       "</div>"
      ],
      "text/plain": [
       "          a         b  c\n",
       "0  0.031595  0.986988  0\n",
       "1  2.115098 -0.046244  1"
      ]
     },
     "execution_count": 3,
     "metadata": {},
     "output_type": "execute_result"
    }
   ],
   "source": [
    "simple.head(2)"
   ]
  },
  {
   "cell_type": "markdown",
   "metadata": {},
   "source": [
    "A bit of nomenclature: \n",
    "> **\"target\"**: that which we are trying to predict (in this case `c`). We often represent the target as `y`\n",
    "\n",
    "> **\"features\"**: that which we use to predict the target (in this case `a` and `b` are both features). We represent the features as `X`  \n",
    "\n",
    "> The **training set** is the data that will be used to train the model. Both `X_train` and `y_train` are part of the training set. \n",
    "\n",
    "> The **test set** is the data which is set aside to evaluate the model. It should always be different from the training set (we'll break that rule here to illustrate). As before, `X_test` and `y_test` will, repectively, be the features and target of the test set. "
   ]
  },
  {
   "cell_type": "markdown",
   "metadata": {},
   "source": [
    "![title](https://github.com/PedroGFonseca/how_to_learn_ds_meetup/raw/e553355800341008d524217912fe4ac0f2e07257/images/test_train.png)"
   ]
  },
  {
   "cell_type": "markdown",
   "metadata": {},
   "source": [
    "In our case, we will call `a` and `b` features, and say that `c` is the target we are trying to predict "
   ]
  },
  {
   "cell_type": "code",
   "execution_count": 4,
   "metadata": {},
   "outputs": [],
   "source": [
    "X_train = simple[['a', 'b']]  # <-- the double brackets are because we are passing a list \n",
    "y_train = simple['c']"
   ]
  },
  {
   "cell_type": "markdown",
   "metadata": {},
   "source": [
    "Because we are only in 2 dimentions, we can even \"cheat\" and look at the data with a quick scatterplot: "
   ]
  },
  {
   "cell_type": "code",
   "execution_count": 5,
   "metadata": {},
   "outputs": [
    {
     "data": {
      "image/png": "[encoded data removed]",
      "text/plain": [
       "<matplotlib.figure.Figure at 0x1064a1898>"
      ]
     },
     "metadata": {},
     "output_type": "display_data"
    }
   ],
   "source": [
    "scatterplot(simple, 'a', 'b', 'c', small=True)"
   ]
  },
  {
   "cell_type": "markdown",
   "metadata": {},
   "source": [
    "Pretty simple, our classifier just needs to figure out the following: \n",
    "> the area to the \"left\" is 1  \n",
    "> the area to the \"right\" is 0  "
   ]
  },
  {
   "cell_type": "markdown",
   "metadata": {},
   "source": [
    "## 3 - Working with scikit classifiers "
   ]
  },
  {
   "cell_type": "markdown",
   "metadata": {},
   "source": [
    "There are many ways to do binary classification, but here we will focus on just 3 algorithms:\n",
    "\n",
    "- [Logistic Regression](http://scikit-learn.org/stable/modules/generated/sklearn.linear_model.LogisticRegression.html) \n",
    "- [Decision Tree Classifier](http://scikit-learn.org/stable/modules/generated/sklearn.tree.DecisionTreeClassifier.html)\n",
    "- [KNN Classifier (\"K nearest neighbours\")](http://scikit-learn.org/stable/modules/generated/sklearn.neighbors.KNeighborsClassifier.html#sklearn.neighbors.KNeighborsClassifier)"
   ]
  },
  {
   "cell_type": "markdown",
   "metadata": {},
   "source": [
    "To make predictions, we will be using the [scikit-learn library](http://scikit-learn.org/stable/index.html). It is generally the standart for getting started with Machine Learning in Python, and a number of production systems use it for its simplicity and excellent community. "
   ]
  },
  {
   "cell_type": "markdown",
   "metadata": {},
   "source": [
    "The API is extremely simple. When you have some features, and a target, you can fit a model by doing the following: "
   ]
  },
  {
   "cell_type": "markdown",
   "metadata": {},
   "source": [
    "> `model.fit(features, target)`"
   ]
  },
  {
   "cell_type": "markdown",
   "metadata": {},
   "source": [
    "So what does it mean to `fit` (also known as training) a model? \n",
    "\n",
    "Essentially, you are showing it some training data (some features, and a target), and allowing it to set its parameters (there are exceptions, but we'll cover this later) so that it can predict new observations.\n",
    "\n"
   ]
  },
  {
   "cell_type": "code",
   "execution_count": 6,
   "metadata": {},
   "outputs": [
    {
     "data": {
      "image/png": "[encoded data removed]",
      "text/plain": [
       "<matplotlib.figure.Figure at 0x1142c8e10>"
      ]
     },
     "metadata": {},
     "output_type": "display_data"
    }
   ],
   "source": [
    "scatterplot(simple, 'a', 'b', 'c', small=True)"
   ]
  },
  {
   "cell_type": "markdown",
   "metadata": {},
   "source": [
    "The easiest classifier to think about might be the [Logistic Regression](scikit-learn.org/stable/modules/generated/sklearn.linear_model.LogisticRegression.html). "
   ]
  },
  {
   "cell_type": "markdown",
   "metadata": {},
   "source": [
    "### Using `fit`, `predict`, and `predict_proba`"
   ]
  },
  {
   "cell_type": "markdown",
   "metadata": {},
   "source": [
    "To ilustrate the use of the scikit API, we will use the Logistic Regression. \n",
    "\n",
    "We start by instanciating a Logistic regression. Nothing much happens at this stage: "
   ]
  },
  {
   "cell_type": "markdown",
   "metadata": {},
   "source": [
    "##### Instantiating a model: "
   ]
  },
  {
   "cell_type": "code",
   "execution_count": 7,
   "metadata": {},
   "outputs": [],
   "source": [
    "logit = LogisticRegression() # just instanciating! "
   ]
  },
  {
   "cell_type": "markdown",
   "metadata": {},
   "source": [
    "##### Fitting a model: "
   ]
  },
  {
   "cell_type": "markdown",
   "metadata": {},
   "source": [
    "Now we `fit` the model, passing it the `X_train`, and the `y_train`"
   ]
  },
  {
   "cell_type": "code",
   "execution_count": 8,
   "metadata": {},
   "outputs": [
    {
     "data": {
      "text/plain": [
       "LogisticRegression(C=1.0, class_weight=None, dual=False, fit_intercept=True,\n",
       "          intercept_scaling=1, max_iter=100, multi_class='ovr', n_jobs=1,\n",
       "          penalty='l2', random_state=None, solver='liblinear', tol=0.0001,\n",
       "          verbose=0, warm_start=False)"
      ]
     },
     "execution_count": 8,
     "metadata": {},
     "output_type": "execute_result"
    }
   ],
   "source": [
    "logit.fit(X=X_train, \n",
    "          y=y_train)"
   ]
  },
  {
   "cell_type": "markdown",
   "metadata": {},
   "source": [
    "The logit is now fit, meaning that it has its parameters set, and is ready to make new predictions"
   ]
  },
  {
   "cell_type": "markdown",
   "metadata": {},
   "source": [
    "##### Making predictions "
   ]
  },
  {
   "cell_type": "markdown",
   "metadata": {},
   "source": [
    "We can now make predictions, using the `predict` method \n",
    "\n",
    "*Note: remember, we should never predict the training set, we're doing that here just to illustrate*"
   ]
  },
  {
   "cell_type": "code",
   "execution_count": 9,
   "metadata": {},
   "outputs": [],
   "source": [
    "predictions = logit.predict(X_train)  # notice that we dont' need the target now "
   ]
  },
  {
   "cell_type": "markdown",
   "metadata": {},
   "source": [
    "What do these predictions look like? "
   ]
  },
  {
   "cell_type": "code",
   "execution_count": 10,
   "metadata": {},
   "outputs": [
    {
     "name": "stdout",
     "output_type": "stream",
     "text": [
      "[0 1 1 1 1 1 0 1 0 1 0 1 1 0 0 0 0 0 0 1 0 1 0 1 0 1 0 1 1 1 1 1 1 1 0 0 0\n",
      " 0 0 1 1 1 0 0 1 0 0 0 0 1 1 1 0 0 0 0 0 0 0 0 0 0 1 1 1 1 0 1 0 1 0 0 0 1\n",
      " 1 1 0 1 1 1 0 0 1 0 1 0 1 1 1 1 1 0 0 1 0 1 1 1 0 0]\n"
     ]
    }
   ],
   "source": [
    "print(predictions)"
   ]
  },
  {
   "cell_type": "markdown",
   "metadata": {},
   "source": [
    "It can also predict probabilities, instead of predicting just 0 or 1: "
   ]
  },
  {
   "cell_type": "code",
   "execution_count": 11,
   "metadata": {},
   "outputs": [
    {
     "name": "stdout",
     "output_type": "stream",
     "text": [
      "[[ 0.91649855  0.08350145]\n",
      " [ 0.06755059  0.93244941]\n",
      " [ 0.22440009  0.77559991]\n",
      " [ 0.49094284  0.50905716]\n",
      " [ 0.08910541  0.91089459]\n",
      " [ 0.29532752  0.70467248]\n",
      " [ 0.53795556  0.46204444]\n",
      " [ 0.04749218  0.95250782]\n",
      " [ 0.73058308  0.26941692]\n",
      " [ 0.24125754  0.75874246]]\n"
     ]
    }
   ],
   "source": [
    "proba_predictions = logit.predict_proba(X_train) # nomenclature becomes \"predict_proba\" \n",
    "\n",
    "print(proba_predictions[0:10])  # printing only the first 10 predictions "
   ]
  },
  {
   "cell_type": "markdown",
   "metadata": {},
   "source": [
    "You will notice that each prediction is composed of two values, which add to one. \n",
    "\n",
    "That's because they are the _\"probability of being 0\"_ and the _\"probability of being 1\"_"
   ]
  },
  {
   "cell_type": "markdown",
   "metadata": {},
   "source": [
    "To simply get the probability of being 1, we can do the following: "
   ]
  },
  {
   "cell_type": "code",
   "execution_count": 12,
   "metadata": {},
   "outputs": [],
   "source": [
    "proba_1 = proba_predictions[:,1]   # the syntax is a bit ugly, but it essentially means \"all entries, item 1\""
   ]
  },
  {
   "cell_type": "markdown",
   "metadata": {},
   "source": [
    "Let's observe the first 10 again: "
   ]
  },
  {
   "cell_type": "code",
   "execution_count": 13,
   "metadata": {},
   "outputs": [
    {
     "data": {
      "text/plain": [
       "array([ 0.08350145,  0.93244941,  0.77559991,  0.50905716,  0.91089459,\n",
       "        0.70467248,  0.46204444,  0.95250782,  0.26941692,  0.75874246])"
      ]
     },
     "execution_count": 13,
     "metadata": {},
     "output_type": "execute_result"
    }
   ],
   "source": [
    "proba_1[0:10]"
   ]
  },
  {
   "cell_type": "markdown",
   "metadata": {},
   "source": [
    "So essentially if you threashold these at 0.5, you get the predictions. "
   ]
  },
  {
   "cell_type": "markdown",
   "metadata": {},
   "source": [
    "##### Observing predictions "
   ]
  },
  {
   "cell_type": "markdown",
   "metadata": {},
   "source": [
    "So how well did our classifier do? \n",
    "\n",
    "Let's use a quick utility function, `plot_boundaries` to get an idea. Naturally this will only work in 2 dimentions. "
   ]
  },
  {
   "cell_type": "code",
   "execution_count": 14,
   "metadata": {},
   "outputs": [
    {
     "data": {
      "image/png": "[encoded data removed]",
      "text/plain": [
       "<matplotlib.figure.Figure at 0x11433f438>"
      ]
     },
     "metadata": {},
     "output_type": "display_data"
    }
   ],
   "source": [
    "plot_boundaries(X_train, y_train, logit)"
   ]
  },
  {
   "cell_type": "markdown",
   "metadata": {},
   "source": [
    "Not particularly great. Too linear. "
   ]
  },
  {
   "cell_type": "markdown",
   "metadata": {},
   "source": [
    "#### Decision Tree Classifier "
   ]
  },
  {
   "cell_type": "markdown",
   "metadata": {},
   "source": [
    "Trees are slightly more powerful models than the logistic regressions, because they aren't forced to be linear. Let's see how a tree predicts our dataset: "
   ]
  },
  {
   "cell_type": "code",
   "execution_count": 15,
   "metadata": {},
   "outputs": [
    {
     "data": {
      "image/png": "[encoded data removed]",
      "text/plain": [
       "<matplotlib.figure.Figure at 0x11445b2b0>"
      ]
     },
     "metadata": {},
     "output_type": "display_data"
    }
   ],
   "source": [
    "dt = DecisionTreeClassifier(max_depth=2)\n",
    "dt.fit(X_train, y_train)\n",
    "plot_boundaries(X_train, y_train, dt)"
   ]
  },
  {
   "cell_type": "markdown",
   "metadata": {},
   "source": [
    "Slightly smarter. What if we change the hyper parameters? "
   ]
  },
  {
   "cell_type": "code",
   "execution_count": 16,
   "metadata": {},
   "outputs": [
    {
     "data": {
      "image/png": "[encoded data removed]",
      "text/plain": [
       "<matplotlib.figure.Figure at 0x1150a4668>"
      ]
     },
     "metadata": {},
     "output_type": "display_data"
    }
   ],
   "source": [
    "dt = DecisionTreeClassifier(max_depth=6, min_samples_split=10)\n",
    "dt.fit(X_train, y_train)\n",
    "plot_boundaries(X_train, y_train, dt)"
   ]
  },
  {
   "cell_type": "markdown",
   "metadata": {},
   "source": [
    "#### KNN Classifier "
   ]
  },
  {
   "cell_type": "markdown",
   "metadata": {},
   "source": [
    "K-nearest-neighbours rely on the idea that an observation can be predited by its `K` closest neighbours: "
   ]
  },
  {
   "cell_type": "code",
   "execution_count": 17,
   "metadata": {},
   "outputs": [
    {
     "data": {
      "image/png": "[encoded data removed]",
      "text/plain": [
       "<matplotlib.figure.Figure at 0x115198c50>"
      ]
     },
     "metadata": {},
     "output_type": "display_data"
    }
   ],
   "source": [
    "knn = KNeighborsClassifier(n_neighbors=5)\n",
    "knn.fit(X_train, y_train)\n",
    "plot_boundaries(X_train, y_train, knn)"
   ]
  },
  {
   "cell_type": "markdown",
   "metadata": {},
   "source": [
    "What if we make the `n_neighors` (number of neighbours) smaller?"
   ]
  },
  {
   "cell_type": "code",
   "execution_count": 18,
   "metadata": {},
   "outputs": [
    {
     "data": {
      "image/png": "[encoded data removed]",
      "text/plain": [
       "<matplotlib.figure.Figure at 0x11433f358>"
      ]
     },
     "metadata": {},
     "output_type": "display_data"
    }
   ],
   "source": [
    "knn = KNeighborsClassifier(n_neighbors=1)\n",
    "knn.fit(X_train, y_train)\n",
    "plot_boundaries(X_train, y_train, knn)"
   ]
  },
  {
   "cell_type": "markdown",
   "metadata": {},
   "source": [
    "Here we observe something interesting. We got more of our training set right, but we can tell by looking at it that something is wrong. How can we avoid this? "
   ]
  },
  {
   "cell_type": "markdown",
   "metadata": {},
   "source": [
    "## 3 - Overfitting and train-test-split "
   ]
  },
  {
   "cell_type": "markdown",
   "metadata": {},
   "source": [
    "Alright, so up to now we've been predicting data the model has already seen, but what happens on data it doesn't know? "
   ]
  },
  {
   "cell_type": "markdown",
   "metadata": {},
   "source": [
    "A quick reminder of how train and test sets work: \n",
    "![title](https://github.com/PedroGFonseca/how_to_learn_ds_meetup/raw/e553355800341008d524217912fe4ac0f2e07257/images/test_train.png)"
   ]
  },
  {
   "cell_type": "markdown",
   "metadata": {},
   "source": [
    "Let's break our dataset into training and test sets: "
   ]
  },
  {
   "cell_type": "code",
   "execution_count": 19,
   "metadata": {},
   "outputs": [],
   "source": [
    "# Reminder:\n",
    "# X_train: features to train on \n",
    "# y_train: targets (actual outcomes) to train on \n",
    "# X_test: features to test on \n",
    "# y_test: targets (actual outcomes) to test on \n",
    "\n",
    "X_train, X_test, y_train, y_test = train_test_split(simple[['a', 'b']], \n",
    "                                                    simple['c'], \n",
    "                                                    test_size=0.33, \n",
    "                                                    random_state=42)"
   ]
  },
  {
   "cell_type": "markdown",
   "metadata": {},
   "source": [
    "Let's go back to our KNN, and train on part of the dataset, and observe how it predicts the other part: "
   ]
  },
  {
   "cell_type": "code",
   "execution_count": 20,
   "metadata": {},
   "outputs": [
    {
     "data": {
      "image/png": "[encoded data removed]",
      "text/plain": [
       "<matplotlib.figure.Figure at 0x1064a1588>"
      ]
     },
     "metadata": {},
     "output_type": "display_data"
    }
   ],
   "source": [
    "knn = KNeighborsClassifier(n_neighbors=1)\n",
    "knn.fit(X_train, y_train)\n",
    "plot_boundaries(X_test, y_test, knn)"
   ]
  },
  {
   "cell_type": "markdown",
   "metadata": {},
   "source": [
    "Now we start to notice that there is some overfit. That red \"entrance\" was clearly something it saw on the training set, and learned \"too much\" from it. Let's increase the `n_neigbors` again: "
   ]
  },
  {
   "cell_type": "code",
   "execution_count": 21,
   "metadata": {},
   "outputs": [
    {
     "data": {
      "image/png": "[encoded data removed]",
      "text/plain": [
       "<matplotlib.figure.Figure at 0x116064160>"
      ]
     },
     "metadata": {},
     "output_type": "display_data"
    }
   ],
   "source": [
    "knn = KNeighborsClassifier(n_neighbors=5)\n",
    "knn.fit(X_train, y_train)\n",
    "plot_boundaries(X_test, y_test, knn)"
   ]
  },
  {
   "cell_type": "markdown",
   "metadata": {},
   "source": [
    "Much better! We can fight overfitting with sensible setting of hyper parameters. "
   ]
  },
  {
   "cell_type": "markdown",
   "metadata": {},
   "source": [
    "## 4 - Evaluating our results "
   ]
  },
  {
   "cell_type": "markdown",
   "metadata": {},
   "source": [
    "Hopefully you now have an intuition as to why it is important to always train on your traninig set, and test on your test set. \n",
    "\n",
    "One trivial (but often too basic) way to evaluate your model is using accuracy (literally percentage of times you get the answer right): "
   ]
  },
  {
   "cell_type": "code",
   "execution_count": 22,
   "metadata": {},
   "outputs": [
    {
     "name": "stdout",
     "output_type": "stream",
     "text": [
      "0.666666666667\n"
     ]
    }
   ],
   "source": [
    "# toy example \n",
    "predicted = [1, 0, 1]\n",
    "true = [1, 0, 0]\n",
    "print(accuracy_score(y_true=true, y_pred=predicted))"
   ]
  },
  {
   "cell_type": "markdown",
   "metadata": {},
   "source": [
    "Let's evaluate how well each of our classifiers does on unseen data: "
   ]
  },
  {
   "cell_type": "markdown",
   "metadata": {},
   "source": [
    "###### Logit "
   ]
  },
  {
   "cell_type": "code",
   "execution_count": 23,
   "metadata": {},
   "outputs": [
    {
     "name": "stdout",
     "output_type": "stream",
     "text": [
      "Accuracy for Logistic Regression was 0.85\n"
     ]
    }
   ],
   "source": [
    "model = LogisticRegression()\n",
    "model.fit(X_train, y_train)\n",
    "predictions = model.predict(X_test)\n",
    "accuracy = accuracy_score(y_true=y_test, y_pred=predictions)\n",
    "print('Accuracy for %s was %0.2f' % ('Logistic Regression', accuracy))"
   ]
  },
  {
   "cell_type": "markdown",
   "metadata": {},
   "source": [
    "The pattern is always the same, so we might as well make this a function: "
   ]
  },
  {
   "cell_type": "markdown",
   "metadata": {},
   "source": [
    "###### Decision Tree Classifier "
   ]
  },
  {
   "cell_type": "code",
   "execution_count": 24,
   "metadata": {},
   "outputs": [
    {
     "name": "stdout",
     "output_type": "stream",
     "text": [
      "Accuracy for Decision Tree Classifier was 0.88\n"
     ]
    }
   ],
   "source": [
    "model = DecisionTreeClassifier(max_depth=5, min_samples_split=5)\n",
    "model.fit(X_train, y_train)\n",
    "predictions = model.predict(X_test)\n",
    "accuracy = accuracy_score(y_true=y_test, y_pred=predictions)\n",
    "print('Accuracy for %s was %0.2f' % ('Decision Tree Classifier', accuracy))"
   ]
  },
  {
   "cell_type": "markdown",
   "metadata": {},
   "source": [
    "###### KNN "
   ]
  },
  {
   "cell_type": "code",
   "execution_count": 25,
   "metadata": {},
   "outputs": [
    {
     "name": "stdout",
     "output_type": "stream",
     "text": [
      "Accuracy for K nearest neighbours was 0.97\n"
     ]
    }
   ],
   "source": [
    "model = KNeighborsClassifier(n_neighbors=5)\n",
    "model.fit(X_train, y_train)\n",
    "predictions = model.predict(X_test)\n",
    "accuracy = accuracy_score(y_true=y_test, y_pred=predictions)\n",
    "print('Accuracy for %s was %0.2f' % ('K nearest neighbours', accuracy))"
   ]
  },
  {
   "cell_type": "markdown",
   "metadata": {},
   "source": [
    "## 5 - Using this on our mushrooms "
   ]
  },
  {
   "cell_type": "markdown",
   "metadata": {},
   "source": [
    "We will start by importing our \"`prepared_mushrooms`\":"
   ]
  },
  {
   "cell_type": "code",
   "execution_count": 26,
   "metadata": {},
   "outputs": [],
   "source": [
    "data = pd.read_csv('data/prepared_mushrooms.csv')"
   ]
  },
  {
   "cell_type": "markdown",
   "metadata": {},
   "source": [
    "Just a quick reminder of what the data looks like: "
   ]
  },
  {
   "cell_type": "code",
   "execution_count": 27,
   "metadata": {},
   "outputs": [
    {
     "data": {
      "text/html": [
       "<div>\n",
       "<style>\n",
       "    .dataframe thead tr:only-child th {\n",
       "        text-align: right;\n",
       "    }\n",
       "\n",
       "    .dataframe thead th {\n",
       "        text-align: left;\n",
       "    }\n",
       "\n",
       "    .dataframe tbody tr th {\n",
       "        vertical-align: top;\n",
       "    }\n",
       "</style>\n",
       "<table border=\"1\" class=\"dataframe\">\n",
       "  <thead>\n",
       "    <tr style=\"text-align: right;\">\n",
       "      <th></th>\n",
       "      <th>is_poisonous</th>\n",
       "      <th>height</th>\n",
       "      <th>gill-color_b</th>\n",
       "      <th>gill-color_e</th>\n",
       "      <th>gill-color_g</th>\n",
       "      <th>gill-color_h</th>\n",
       "      <th>gill-color_k</th>\n",
       "      <th>gill-color_n</th>\n",
       "      <th>gill-color_o</th>\n",
       "      <th>gill-color_p</th>\n",
       "      <th>...</th>\n",
       "      <th>spore-print-color_n</th>\n",
       "      <th>spore-print-color_o</th>\n",
       "      <th>spore-print-color_r</th>\n",
       "      <th>spore-print-color_u</th>\n",
       "      <th>spore-print-color_w</th>\n",
       "      <th>spore-print-color_y</th>\n",
       "      <th>stalk-surface-above-ring_f</th>\n",
       "      <th>stalk-surface-above-ring_k</th>\n",
       "      <th>stalk-surface-above-ring_s</th>\n",
       "      <th>stalk-surface-above-ring_y</th>\n",
       "    </tr>\n",
       "  </thead>\n",
       "  <tbody>\n",
       "    <tr>\n",
       "      <th>0</th>\n",
       "      <td>1</td>\n",
       "      <td>4.6</td>\n",
       "      <td>0</td>\n",
       "      <td>0</td>\n",
       "      <td>0</td>\n",
       "      <td>0</td>\n",
       "      <td>1</td>\n",
       "      <td>0</td>\n",
       "      <td>0</td>\n",
       "      <td>0</td>\n",
       "      <td>...</td>\n",
       "      <td>0</td>\n",
       "      <td>0</td>\n",
       "      <td>0</td>\n",
       "      <td>0</td>\n",
       "      <td>0</td>\n",
       "      <td>0</td>\n",
       "      <td>0</td>\n",
       "      <td>0</td>\n",
       "      <td>1</td>\n",
       "      <td>0</td>\n",
       "    </tr>\n",
       "    <tr>\n",
       "      <th>1</th>\n",
       "      <td>0</td>\n",
       "      <td>4.8</td>\n",
       "      <td>0</td>\n",
       "      <td>0</td>\n",
       "      <td>0</td>\n",
       "      <td>0</td>\n",
       "      <td>1</td>\n",
       "      <td>0</td>\n",
       "      <td>0</td>\n",
       "      <td>0</td>\n",
       "      <td>...</td>\n",
       "      <td>1</td>\n",
       "      <td>0</td>\n",
       "      <td>0</td>\n",
       "      <td>0</td>\n",
       "      <td>0</td>\n",
       "      <td>0</td>\n",
       "      <td>0</td>\n",
       "      <td>0</td>\n",
       "      <td>1</td>\n",
       "      <td>0</td>\n",
       "    </tr>\n",
       "    <tr>\n",
       "      <th>2</th>\n",
       "      <td>0</td>\n",
       "      <td>5.6</td>\n",
       "      <td>0</td>\n",
       "      <td>0</td>\n",
       "      <td>0</td>\n",
       "      <td>0</td>\n",
       "      <td>0</td>\n",
       "      <td>1</td>\n",
       "      <td>0</td>\n",
       "      <td>0</td>\n",
       "      <td>...</td>\n",
       "      <td>1</td>\n",
       "      <td>0</td>\n",
       "      <td>0</td>\n",
       "      <td>0</td>\n",
       "      <td>0</td>\n",
       "      <td>0</td>\n",
       "      <td>0</td>\n",
       "      <td>0</td>\n",
       "      <td>1</td>\n",
       "      <td>0</td>\n",
       "    </tr>\n",
       "  </tbody>\n",
       "</table>\n",
       "<p>3 rows × 29 columns</p>\n",
       "</div>"
      ],
      "text/plain": [
       "   is_poisonous  height  gill-color_b  gill-color_e  gill-color_g  \\\n",
       "0             1     4.6             0             0             0   \n",
       "1             0     4.8             0             0             0   \n",
       "2             0     5.6             0             0             0   \n",
       "\n",
       "   gill-color_h  gill-color_k  gill-color_n  gill-color_o  gill-color_p  \\\n",
       "0             0             1             0             0             0   \n",
       "1             0             1             0             0             0   \n",
       "2             0             0             1             0             0   \n",
       "\n",
       "              ...              spore-print-color_n  spore-print-color_o  \\\n",
       "0             ...                                0                    0   \n",
       "1             ...                                1                    0   \n",
       "2             ...                                1                    0   \n",
       "\n",
       "   spore-print-color_r  spore-print-color_u  spore-print-color_w  \\\n",
       "0                    0                    0                    0   \n",
       "1                    0                    0                    0   \n",
       "2                    0                    0                    0   \n",
       "\n",
       "   spore-print-color_y  stalk-surface-above-ring_f  \\\n",
       "0                    0                           0   \n",
       "1                    0                           0   \n",
       "2                    0                           0   \n",
       "\n",
       "   stalk-surface-above-ring_k  stalk-surface-above-ring_s  \\\n",
       "0                           0                           1   \n",
       "1                           0                           1   \n",
       "2                           0                           1   \n",
       "\n",
       "   stalk-surface-above-ring_y  \n",
       "0                           0  \n",
       "1                           0  \n",
       "2                           0  \n",
       "\n",
       "[3 rows x 29 columns]"
      ]
     },
     "execution_count": 27,
     "metadata": {},
     "output_type": "execute_result"
    }
   ],
   "source": [
    "data.head(3)"
   ]
  },
  {
   "cell_type": "markdown",
   "metadata": {},
   "source": [
    "How many rows and columns? "
   ]
  },
  {
   "cell_type": "code",
   "execution_count": 28,
   "metadata": {},
   "outputs": [
    {
     "name": "stdout",
     "output_type": "stream",
     "text": [
      "Our mushroom dataset has 8124 rows and 29 columns\n"
     ]
    }
   ],
   "source": [
    "print('Our mushroom dataset has %0.0f rows and %0.0f columns'  % (data.shape[0], data.shape[1]))"
   ]
  },
  {
   "cell_type": "code",
   "execution_count": 29,
   "metadata": {},
   "outputs": [],
   "source": [
    "target = 'is_poisonous'\n",
    "\n",
    "features = list(data.columns)\n",
    "features.remove(target)"
   ]
  },
  {
   "cell_type": "markdown",
   "metadata": {},
   "source": [
    "Note: those who are comfortable with python should use a list comprehension, which is much more elegant:  \n",
    "    `features = [column for column in data.columns if column != target]`"
   ]
  },
  {
   "cell_type": "code",
   "execution_count": 30,
   "metadata": {},
   "outputs": [],
   "source": [
    "X_train, X_test, y_train, y_test = train_test_split(data[features], \n",
    "                                                    data[target], \n",
    "                                                    test_size=0.33, \n",
    "                                                    random_state=42)"
   ]
  },
  {
   "cell_type": "markdown",
   "metadata": {},
   "source": [
    "What is the size of our new datasets? "
   ]
  },
  {
   "cell_type": "code",
   "execution_count": 31,
   "metadata": {},
   "outputs": [
    {
     "name": "stdout",
     "output_type": "stream",
     "text": [
      "X_train shape: (5443, 28)\n",
      "y_train shape: (5443,)\n",
      "X_test shape: (2681, 28)\n",
      "y_test shape: (2681,)\n"
     ]
    }
   ],
   "source": [
    "print('X_train shape:', X_train.shape)\n",
    "print('y_train shape:', y_train.shape)\n",
    "print('X_test shape:', X_test.shape)\n",
    "print('y_test shape:', y_test.shape)"
   ]
  },
  {
   "cell_type": "markdown",
   "metadata": {},
   "source": [
    "#### Let's fit some models! "
   ]
  },
  {
   "cell_type": "markdown",
   "metadata": {},
   "source": [
    "Logistic Regression:"
   ]
  },
  {
   "cell_type": "code",
   "execution_count": 32,
   "metadata": {},
   "outputs": [
    {
     "name": "stdout",
     "output_type": "stream",
     "text": [
      "Accuracy for Logistic Regression was 0.9705\n"
     ]
    }
   ],
   "source": [
    "logit = LogisticRegression()\n",
    "logit.fit(X_train, y_train)\n",
    "predictions = logit.predict(X_test)\n",
    "accuracy = accuracy_score(y_true=y_test, y_pred=predictions)\n",
    "print('Accuracy for %s was %0.4f' % ('Logistic Regression', accuracy))"
   ]
  },
  {
   "cell_type": "markdown",
   "metadata": {},
   "source": [
    "K Nearest Neighbours: "
   ]
  },
  {
   "cell_type": "code",
   "execution_count": 33,
   "metadata": {},
   "outputs": [
    {
     "name": "stdout",
     "output_type": "stream",
     "text": [
      "Accuracy for K nearest neighbours was 0.9623\n"
     ]
    }
   ],
   "source": [
    "knn = KNeighborsClassifier(n_neighbors=2)\n",
    "knn.fit(X_train, y_train)\n",
    "predictions = knn.predict(X_test)\n",
    "accuracy = accuracy_score(y_true=y_test, y_pred=predictions)\n",
    "print('Accuracy for %s was %0.4f' % ('K nearest neighbours', accuracy))"
   ]
  },
  {
   "cell_type": "markdown",
   "metadata": {},
   "source": [
    "Decision Tree Classifier:"
   ]
  },
  {
   "cell_type": "code",
   "execution_count": 34,
   "metadata": {},
   "outputs": [
    {
     "name": "stdout",
     "output_type": "stream",
     "text": [
      "Accuracy for Decision Tree Classifier was 0.9482\n"
     ]
    }
   ],
   "source": [
    "decision_tree_classifier = DecisionTreeClassifier(max_depth=3, min_samples_leaf=100)\n",
    "decision_tree_classifier.fit(X_train, y_train)\n",
    "predictions = decision_tree_classifier.predict(X_test)\n",
    "accuracy = accuracy_score(y_true=y_test, y_pred=predictions)\n",
    "print('Accuracy for %s was %0.4f' % ('Decision Tree Classifier', accuracy))"
   ]
  },
  {
   "cell_type": "markdown",
   "metadata": {},
   "source": [
    "Obviously we can and should try to tune the hyper parameters (`max depth`, `min_samples_leaf`, etc), but we'll do that in the exercise. You might have noticed that mushroons are relatively easy to predict. "
   ]
  },
  {
   "cell_type": "markdown",
   "metadata": {},
   "source": [
    "#### Bonus bit: interpreting models "
   ]
  },
  {
   "cell_type": "markdown",
   "metadata": {},
   "source": [
    "One easy model to interpret (generally good to get first glances at datasets) is the Decision Tree Classifier:\n",
    "> \"Left\" means True     \n",
    "> The \"value\" is [_\"how many were in fact 0\"_, _\"how many were in fact 1\"_]  \n",
    "> The \"gini\" is a measure of \"impurity\". If the node has only 1 type, the gini is 0  \n",
    "> The \"samples\" is simply how many are in that node   "
   ]
  },
  {
   "cell_type": "code",
   "execution_count": 35,
   "metadata": {},
   "outputs": [
    {
     "data": {
      "image/svg+xml": [
       "<?xml version=\"1.0\" encoding=\"UTF-8\" standalone=\"no\"?>\n",
       "<!DOCTYPE svg PUBLIC \"-//W3C//DTD SVG 1.1//EN\"\n",
       " \"http://www.w3.org/Graphics/SVG/1.1/DTD/svg11.dtd\">\n",
       "<!-- Generated by graphviz version 2.40.1 (20161225.0304)\n",
       " -->\n",
       "<!-- Title: Tree Pages: 1 -->\n",
       "<svg width=\"883pt\" height=\"414pt\"\n",
       " viewBox=\"0.00 0.00 883.23 414.00\" xmlns=\"http://www.w3.org/2000/svg\" xmlns:xlink=\"http://www.w3.org/1999/xlink\">\n",
       "<g id=\"graph0\" class=\"graph\" transform=\"scale(1 1) rotate(0) translate(4 410)\">\n",
       "<title>Tree</title>\n",
       "<polygon fill=\"#ffffff\" stroke=\"transparent\" points=\"-4,4 -4,-410 879.2305,-410 879.2305,4 -4,4\"/>\n",
       "<!-- 0 -->\n",
       "<g id=\"node1\" class=\"node\">\n",
       "<title>0</title>\n",
       "<path fill=\"#e58139\" fill-opacity=\"0.078431\" stroke=\"#000000\" d=\"M553.4981,-406C553.4981,-406 361.7324,-406 361.7324,-406 355.7324,-406 349.7324,-400 349.7324,-394 349.7324,-394 349.7324,-340 349.7324,-340 349.7324,-334 355.7324,-328 361.7324,-328 361.7324,-328 553.4981,-328 553.4981,-328 559.4981,-328 565.4981,-334 565.4981,-340 565.4981,-340 565.4981,-394 565.4981,-394 565.4981,-400 559.4981,-406 553.4981,-406\"/>\n",
       "<text text-anchor=\"start\" x=\"357.6738\" y=\"-390.8\" font-family=\"Helvetica,sans-Serif\" font-size=\"14.00\" fill=\"#000000\">stalk&#45;surface&#45;above&#45;ring_k ≤ 0.5</text>\n",
       "<text text-anchor=\"start\" x=\"417.3311\" y=\"-376.8\" font-family=\"Helvetica,sans-Serif\" font-size=\"14.00\" fill=\"#000000\">gini = 0.4992</text>\n",
       "<text text-anchor=\"start\" x=\"408\" y=\"-362.8\" font-family=\"Helvetica,sans-Serif\" font-size=\"14.00\" fill=\"#000000\">samples = 5443</text>\n",
       "<text text-anchor=\"start\" x=\"393.9795\" y=\"-348.8\" font-family=\"Helvetica,sans-Serif\" font-size=\"14.00\" fill=\"#000000\">value = [2830, 2613]</text>\n",
       "<text text-anchor=\"start\" x=\"419.2896\" y=\"-334.8\" font-family=\"Helvetica,sans-Serif\" font-size=\"14.00\" fill=\"#000000\">class = Safe</text>\n",
       "</g>\n",
       "<!-- 1 -->\n",
       "<g id=\"node2\" class=\"node\">\n",
       "<title>1</title>\n",
       "<path fill=\"#e58139\" fill-opacity=\"0.596078\" stroke=\"#000000\" d=\"M429.8547,-292C429.8547,-292 311.3758,-292 311.3758,-292 305.3758,-292 299.3758,-286 299.3758,-280 299.3758,-280 299.3758,-226 299.3758,-226 299.3758,-220 305.3758,-214 311.3758,-214 311.3758,-214 429.8547,-214 429.8547,-214 435.8547,-214 441.8547,-220 441.8547,-226 441.8547,-226 441.8547,-280 441.8547,-280 441.8547,-286 435.8547,-292 429.8547,-292\"/>\n",
       "<text text-anchor=\"start\" x=\"322.0288\" y=\"-276.8\" font-family=\"Helvetica,sans-Serif\" font-size=\"14.00\" fill=\"#000000\">gill&#45;size_b ≤ 0.5</text>\n",
       "<text text-anchor=\"start\" x=\"330.3311\" y=\"-262.8\" font-family=\"Helvetica,sans-Serif\" font-size=\"14.00\" fill=\"#000000\">gini = 0.4099</text>\n",
       "<text text-anchor=\"start\" x=\"321\" y=\"-248.8\" font-family=\"Helvetica,sans-Serif\" font-size=\"14.00\" fill=\"#000000\">samples = 3851</text>\n",
       "<text text-anchor=\"start\" x=\"307.4956\" y=\"-234.8\" font-family=\"Helvetica,sans-Serif\" font-size=\"14.00\" fill=\"#000000\">value = [2743, 1108]</text>\n",
       "<text text-anchor=\"start\" x=\"332.2896\" y=\"-220.8\" font-family=\"Helvetica,sans-Serif\" font-size=\"14.00\" fill=\"#000000\">class = Safe</text>\n",
       "</g>\n",
       "<!-- 0&#45;&gt;1 -->\n",
       "<g id=\"edge1\" class=\"edge\">\n",
       "<title>0&#45;&gt;1</title>\n",
       "<path fill=\"none\" stroke=\"#000000\" d=\"M427.6748,-327.7677C420.9762,-318.9903 413.801,-309.5883 406.8776,-300.5161\"/>\n",
       "<polygon fill=\"#000000\" stroke=\"#000000\" points=\"409.46,-298.1308 400.6109,-292.3046 403.8953,-302.3776 409.46,-298.1308\"/>\n",
       "<text text-anchor=\"middle\" x=\"397.2826\" y=\"-312.8821\" font-family=\"Helvetica,sans-Serif\" font-size=\"14.00\" fill=\"#000000\">True</text>\n",
       "</g>\n",
       "<!-- 8 -->\n",
       "<g id=\"node9\" class=\"node\">\n",
       "<title>8</title>\n",
       "<path fill=\"#399de5\" fill-opacity=\"0.941176\" stroke=\"#000000\" d=\"M617.8605,-292C617.8605,-292 471.3699,-292 471.3699,-292 465.3699,-292 459.3699,-286 459.3699,-280 459.3699,-280 459.3699,-226 459.3699,-226 459.3699,-220 465.3699,-214 471.3699,-214 471.3699,-214 617.8605,-214 617.8605,-214 623.8605,-214 629.8605,-220 629.8605,-226 629.8605,-226 629.8605,-280 629.8605,-280 629.8605,-286 623.8605,-292 617.8605,-292\"/>\n",
       "<text text-anchor=\"start\" x=\"467.2427\" y=\"-276.8\" font-family=\"Helvetica,sans-Serif\" font-size=\"14.00\" fill=\"#000000\">spore&#45;print&#45;color_w ≤ 0.5</text>\n",
       "<text text-anchor=\"start\" x=\"504.3311\" y=\"-262.8\" font-family=\"Helvetica,sans-Serif\" font-size=\"14.00\" fill=\"#000000\">gini = 0.1033</text>\n",
       "<text text-anchor=\"start\" x=\"495\" y=\"-248.8\" font-family=\"Helvetica,sans-Serif\" font-size=\"14.00\" fill=\"#000000\">samples = 1592</text>\n",
       "<text text-anchor=\"start\" x=\"488.7656\" y=\"-234.8\" font-family=\"Helvetica,sans-Serif\" font-size=\"14.00\" fill=\"#000000\">value = [87, 1505]</text>\n",
       "<text text-anchor=\"start\" x=\"488\" y=\"-220.8\" font-family=\"Helvetica,sans-Serif\" font-size=\"14.00\" fill=\"#000000\">class = Poisonous</text>\n",
       "</g>\n",
       "<!-- 0&#45;&gt;8 -->\n",
       "<g id=\"edge8\" class=\"edge\">\n",
       "<title>0&#45;&gt;8</title>\n",
       "<path fill=\"none\" stroke=\"#000000\" d=\"M487.5557,-327.7677C494.2542,-318.9903 501.4294,-309.5883 508.3529,-300.5161\"/>\n",
       "<polygon fill=\"#000000\" stroke=\"#000000\" points=\"511.3351,-302.3776 514.6196,-292.3046 505.7705,-298.1308 511.3351,-302.3776\"/>\n",
       "<text text-anchor=\"middle\" x=\"517.9479\" y=\"-312.8821\" font-family=\"Helvetica,sans-Serif\" font-size=\"14.00\" fill=\"#000000\">False</text>\n",
       "</g>\n",
       "<!-- 2 -->\n",
       "<g id=\"node3\" class=\"node\">\n",
       "<title>2</title>\n",
       "<path fill=\"#399de5\" fill-opacity=\"0.788235\" stroke=\"#000000\" d=\"M258.3459,-178C258.3459,-178 152.8846,-178 152.8846,-178 146.8846,-178 140.8846,-172 140.8846,-166 140.8846,-166 140.8846,-112 140.8846,-112 140.8846,-106 146.8846,-100 152.8846,-100 152.8846,-100 258.3459,-100 258.3459,-100 264.3459,-100 270.3459,-106 270.3459,-112 270.3459,-112 270.3459,-166 270.3459,-166 270.3459,-172 264.3459,-178 258.3459,-178\"/>\n",
       "<text text-anchor=\"start\" x=\"154.3047\" y=\"-162.8\" font-family=\"Helvetica,sans-Serif\" font-size=\"14.00\" fill=\"#000000\">gill&#45;color_b ≤ 0.5</text>\n",
       "<text text-anchor=\"start\" x=\"165.3311\" y=\"-148.8\" font-family=\"Helvetica,sans-Serif\" font-size=\"14.00\" fill=\"#000000\">gini = 0.2882</text>\n",
       "<text text-anchor=\"start\" x=\"156\" y=\"-134.8\" font-family=\"Helvetica,sans-Serif\" font-size=\"14.00\" fill=\"#000000\">samples = 1054</text>\n",
       "<text text-anchor=\"start\" x=\"149.7656\" y=\"-120.8\" font-family=\"Helvetica,sans-Serif\" font-size=\"14.00\" fill=\"#000000\">value = [184, 870]</text>\n",
       "<text text-anchor=\"start\" x=\"149\" y=\"-106.8\" font-family=\"Helvetica,sans-Serif\" font-size=\"14.00\" fill=\"#000000\">class = Poisonous</text>\n",
       "</g>\n",
       "<!-- 1&#45;&gt;2 -->\n",
       "<g id=\"edge2\" class=\"edge\">\n",
       "<title>1&#45;&gt;2</title>\n",
       "<path fill=\"none\" stroke=\"#000000\" d=\"M313.8316,-213.7677C299.8828,-204.1303 284.8443,-193.7401 270.5443,-183.8601\"/>\n",
       "<polygon fill=\"#000000\" stroke=\"#000000\" points=\"272.4408,-180.9163 262.2239,-178.1115 268.4617,-186.6754 272.4408,-180.9163\"/>\n",
       "</g>\n",
       "<!-- 5 -->\n",
       "<g id=\"node6\" class=\"node\">\n",
       "<title>5</title>\n",
       "<path fill=\"#e58139\" fill-opacity=\"0.905882\" stroke=\"#000000\" d=\"M445.0367,-178C445.0367,-178 300.1938,-178 300.1938,-178 294.1938,-178 288.1938,-172 288.1938,-166 288.1938,-166 288.1938,-112 288.1938,-112 288.1938,-106 294.1938,-100 300.1938,-100 300.1938,-100 445.0367,-100 445.0367,-100 451.0367,-100 457.0367,-106 457.0367,-112 457.0367,-112 457.0367,-166 457.0367,-166 457.0367,-172 451.0367,-178 445.0367,-178\"/>\n",
       "<text text-anchor=\"start\" x=\"296.4048\" y=\"-162.8\" font-family=\"Helvetica,sans-Serif\" font-size=\"14.00\" fill=\"#000000\">spore&#45;print&#45;color_h ≤ 0.5</text>\n",
       "<text text-anchor=\"start\" x=\"332.3311\" y=\"-148.8\" font-family=\"Helvetica,sans-Serif\" font-size=\"14.00\" fill=\"#000000\">gini = 0.1557</text>\n",
       "<text text-anchor=\"start\" x=\"323\" y=\"-134.8\" font-family=\"Helvetica,sans-Serif\" font-size=\"14.00\" fill=\"#000000\">samples = 2797</text>\n",
       "<text text-anchor=\"start\" x=\"312.8726\" y=\"-120.8\" font-family=\"Helvetica,sans-Serif\" font-size=\"14.00\" fill=\"#000000\">value = [2559, 238]</text>\n",
       "<text text-anchor=\"start\" x=\"334.2896\" y=\"-106.8\" font-family=\"Helvetica,sans-Serif\" font-size=\"14.00\" fill=\"#000000\">class = Safe</text>\n",
       "</g>\n",
       "<!-- 1&#45;&gt;5 -->\n",
       "<g id=\"edge5\" class=\"edge\">\n",
       "<title>1&#45;&gt;5</title>\n",
       "<path fill=\"none\" stroke=\"#000000\" d=\"M371.3035,-213.7677C371.4465,-205.6172 371.5989,-196.9283 371.7474,-188.4649\"/>\n",
       "<polygon fill=\"#000000\" stroke=\"#000000\" points=\"375.2496,-188.3645 371.9257,-178.3046 368.2507,-188.2417 375.2496,-188.3645\"/>\n",
       "</g>\n",
       "<!-- 3 -->\n",
       "<g id=\"node4\" class=\"node\">\n",
       "<title>3</title>\n",
       "<path fill=\"#399de5\" fill-opacity=\"0.392157\" stroke=\"#000000\" d=\"M117.3459,-64C117.3459,-64 11.8846,-64 11.8846,-64 5.8846,-64 -.1154,-58 -.1154,-52 -.1154,-52 -.1154,-12 -.1154,-12 -.1154,-6 5.8846,0 11.8846,0 11.8846,0 117.3459,0 117.3459,0 123.3459,0 129.3459,-6 129.3459,-12 129.3459,-12 129.3459,-52 129.3459,-52 129.3459,-58 123.3459,-64 117.3459,-64\"/>\n",
       "<text text-anchor=\"start\" x=\"24.3311\" y=\"-48.8\" font-family=\"Helvetica,sans-Serif\" font-size=\"14.00\" fill=\"#000000\">gini = 0.4705</text>\n",
       "<text text-anchor=\"start\" x=\"18.8931\" y=\"-34.8\" font-family=\"Helvetica,sans-Serif\" font-size=\"14.00\" fill=\"#000000\">samples = 486</text>\n",
       "<text text-anchor=\"start\" x=\"8.7656\" y=\"-20.8\" font-family=\"Helvetica,sans-Serif\" font-size=\"14.00\" fill=\"#000000\">value = [184, 302]</text>\n",
       "<text text-anchor=\"start\" x=\"8\" y=\"-6.8\" font-family=\"Helvetica,sans-Serif\" font-size=\"14.00\" fill=\"#000000\">class = Poisonous</text>\n",
       "</g>\n",
       "<!-- 2&#45;&gt;3 -->\n",
       "<g id=\"edge3\" class=\"edge\">\n",
       "<title>2&#45;&gt;3</title>\n",
       "<path fill=\"none\" stroke=\"#000000\" d=\"M153.9127,-99.7647C141.2759,-90.1751 127.7698,-79.9258 115.1866,-70.3768\"/>\n",
       "<polygon fill=\"#000000\" stroke=\"#000000\" points=\"117.151,-67.4739 107.0692,-64.2169 112.9194,-73.0501 117.151,-67.4739\"/>\n",
       "</g>\n",
       "<!-- 4 -->\n",
       "<g id=\"node5\" class=\"node\">\n",
       "<title>4</title>\n",
       "<path fill=\"#399de5\" stroke=\"#000000\" d=\"M264.3459,-64C264.3459,-64 158.8846,-64 158.8846,-64 152.8846,-64 146.8846,-58 146.8846,-52 146.8846,-52 146.8846,-12 146.8846,-12 146.8846,-6 152.8846,0 158.8846,0 158.8846,0 264.3459,0 264.3459,0 270.3459,0 276.3459,-6 276.3459,-12 276.3459,-12 276.3459,-52 276.3459,-52 276.3459,-58 270.3459,-64 264.3459,-64\"/>\n",
       "<text text-anchor=\"start\" x=\"183.0103\" y=\"-48.8\" font-family=\"Helvetica,sans-Serif\" font-size=\"14.00\" fill=\"#000000\">gini = 0.0</text>\n",
       "<text text-anchor=\"start\" x=\"165.8931\" y=\"-34.8\" font-family=\"Helvetica,sans-Serif\" font-size=\"14.00\" fill=\"#000000\">samples = 568</text>\n",
       "<text text-anchor=\"start\" x=\"163.5518\" y=\"-20.8\" font-family=\"Helvetica,sans-Serif\" font-size=\"14.00\" fill=\"#000000\">value = [0, 568]</text>\n",
       "<text text-anchor=\"start\" x=\"155\" y=\"-6.8\" font-family=\"Helvetica,sans-Serif\" font-size=\"14.00\" fill=\"#000000\">class = Poisonous</text>\n",
       "</g>\n",
       "<!-- 2&#45;&gt;4 -->\n",
       "<g id=\"edge4\" class=\"edge\">\n",
       "<title>2&#45;&gt;4</title>\n",
       "<path fill=\"none\" stroke=\"#000000\" d=\"M207.8153,-99.7647C208.2814,-91.4537 208.7752,-82.6472 209.2472,-74.2305\"/>\n",
       "<polygon fill=\"#000000\" stroke=\"#000000\" points=\"212.7432,-74.3972 209.8087,-64.2169 205.7542,-74.0052 212.7432,-74.3972\"/>\n",
       "</g>\n",
       "<!-- 6 -->\n",
       "<g id=\"node7\" class=\"node\">\n",
       "<title>6</title>\n",
       "<path fill=\"#e58139\" fill-opacity=\"0.980392\" stroke=\"#000000\" d=\"M419.3148,-64C419.3148,-64 315.9157,-64 315.9157,-64 309.9157,-64 303.9157,-58 303.9157,-52 303.9157,-52 303.9157,-12 303.9157,-12 303.9157,-6 309.9157,0 315.9157,0 315.9157,0 419.3148,0 419.3148,0 425.3148,0 431.3148,-6 431.3148,-12 431.3148,-12 431.3148,-52 431.3148,-52 431.3148,-58 425.3148,-64 419.3148,-64\"/>\n",
       "<text text-anchor=\"start\" x=\"327.3311\" y=\"-48.8\" font-family=\"Helvetica,sans-Serif\" font-size=\"14.00\" fill=\"#000000\">gini = 0.0354</text>\n",
       "<text text-anchor=\"start\" x=\"318\" y=\"-34.8\" font-family=\"Helvetica,sans-Serif\" font-size=\"14.00\" fill=\"#000000\">samples = 2606</text>\n",
       "<text text-anchor=\"start\" x=\"311.7656\" y=\"-20.8\" font-family=\"Helvetica,sans-Serif\" font-size=\"14.00\" fill=\"#000000\">value = [2559, 47]</text>\n",
       "<text text-anchor=\"start\" x=\"329.2896\" y=\"-6.8\" font-family=\"Helvetica,sans-Serif\" font-size=\"14.00\" fill=\"#000000\">class = Safe</text>\n",
       "</g>\n",
       "<!-- 5&#45;&gt;6 -->\n",
       "<g id=\"edge6\" class=\"edge\">\n",
       "<title>5&#45;&gt;6</title>\n",
       "<path fill=\"none\" stroke=\"#000000\" d=\"M370.7818,-99.7647C370.3934,-91.4537 369.9819,-82.6472 369.5886,-74.2305\"/>\n",
       "<polygon fill=\"#000000\" stroke=\"#000000\" points=\"373.0838,-74.0426 369.1207,-64.2169 366.0914,-74.3694 373.0838,-74.0426\"/>\n",
       "</g>\n",
       "<!-- 7 -->\n",
       "<g id=\"node8\" class=\"node\">\n",
       "<title>7</title>\n",
       "<path fill=\"#399de5\" stroke=\"#000000\" d=\"M566.3459,-64C566.3459,-64 460.8846,-64 460.8846,-64 454.8846,-64 448.8846,-58 448.8846,-52 448.8846,-52 448.8846,-12 448.8846,-12 448.8846,-6 454.8846,0 460.8846,0 460.8846,0 566.3459,0 566.3459,0 572.3459,0 578.3459,-6 578.3459,-12 578.3459,-12 578.3459,-52 578.3459,-52 578.3459,-58 572.3459,-64 566.3459,-64\"/>\n",
       "<text text-anchor=\"start\" x=\"485.0103\" y=\"-48.8\" font-family=\"Helvetica,sans-Serif\" font-size=\"14.00\" fill=\"#000000\">gini = 0.0</text>\n",
       "<text text-anchor=\"start\" x=\"467.8931\" y=\"-34.8\" font-family=\"Helvetica,sans-Serif\" font-size=\"14.00\" fill=\"#000000\">samples = 191</text>\n",
       "<text text-anchor=\"start\" x=\"465.5518\" y=\"-20.8\" font-family=\"Helvetica,sans-Serif\" font-size=\"14.00\" fill=\"#000000\">value = [0, 191]</text>\n",
       "<text text-anchor=\"start\" x=\"457\" y=\"-6.8\" font-family=\"Helvetica,sans-Serif\" font-size=\"14.00\" fill=\"#000000\">class = Poisonous</text>\n",
       "</g>\n",
       "<!-- 5&#45;&gt;7 -->\n",
       "<g id=\"edge7\" class=\"edge\">\n",
       "<title>5&#45;&gt;7</title>\n",
       "<path fill=\"none\" stroke=\"#000000\" d=\"M424.3178,-99.7647C436.9546,-90.1751 450.4607,-79.9258 463.0439,-70.3768\"/>\n",
       "<polygon fill=\"#000000\" stroke=\"#000000\" points=\"465.311,-73.0501 471.1612,-64.2169 461.0794,-67.4739 465.311,-73.0501\"/>\n",
       "</g>\n",
       "<!-- 9 -->\n",
       "<g id=\"node10\" class=\"node\">\n",
       "<title>9</title>\n",
       "<path fill=\"#399de5\" stroke=\"#000000\" d=\"M595.3459,-171C595.3459,-171 489.8846,-171 489.8846,-171 483.8846,-171 477.8846,-165 477.8846,-159 477.8846,-159 477.8846,-119 477.8846,-119 477.8846,-113 483.8846,-107 489.8846,-107 489.8846,-107 595.3459,-107 595.3459,-107 601.3459,-107 607.3459,-113 607.3459,-119 607.3459,-119 607.3459,-159 607.3459,-159 607.3459,-165 601.3459,-171 595.3459,-171\"/>\n",
       "<text text-anchor=\"start\" x=\"514.0103\" y=\"-155.8\" font-family=\"Helvetica,sans-Serif\" font-size=\"14.00\" fill=\"#000000\">gini = 0.0</text>\n",
       "<text text-anchor=\"start\" x=\"496.8931\" y=\"-141.8\" font-family=\"Helvetica,sans-Serif\" font-size=\"14.00\" fill=\"#000000\">samples = 862</text>\n",
       "<text text-anchor=\"start\" x=\"494.5518\" y=\"-127.8\" font-family=\"Helvetica,sans-Serif\" font-size=\"14.00\" fill=\"#000000\">value = [0, 862]</text>\n",
       "<text text-anchor=\"start\" x=\"486\" y=\"-113.8\" font-family=\"Helvetica,sans-Serif\" font-size=\"14.00\" fill=\"#000000\">class = Poisonous</text>\n",
       "</g>\n",
       "<!-- 8&#45;&gt;9 -->\n",
       "<g id=\"edge9\" class=\"edge\">\n",
       "<title>8&#45;&gt;9</title>\n",
       "<path fill=\"none\" stroke=\"#000000\" d=\"M543.9269,-213.7677C543.7439,-203.3338 543.5454,-192.0174 543.3595,-181.4215\"/>\n",
       "<polygon fill=\"#000000\" stroke=\"#000000\" points=\"546.8538,-181.0622 543.1788,-171.1252 539.8549,-181.1851 546.8538,-181.0622\"/>\n",
       "</g>\n",
       "<!-- 10 -->\n",
       "<g id=\"node11\" class=\"node\">\n",
       "<title>10</title>\n",
       "<path fill=\"#399de5\" fill-opacity=\"0.862745\" stroke=\"#000000\" d=\"M742.3459,-178C742.3459,-178 636.8846,-178 636.8846,-178 630.8846,-178 624.8846,-172 624.8846,-166 624.8846,-166 624.8846,-112 624.8846,-112 624.8846,-106 630.8846,-100 636.8846,-100 636.8846,-100 742.3459,-100 742.3459,-100 748.3459,-100 754.3459,-106 754.3459,-112 754.3459,-112 754.3459,-166 754.3459,-166 754.3459,-172 748.3459,-178 742.3459,-178\"/>\n",
       "<text text-anchor=\"start\" x=\"641.0288\" y=\"-162.8\" font-family=\"Helvetica,sans-Serif\" font-size=\"14.00\" fill=\"#000000\">gill&#45;size_n ≤ 0.5</text>\n",
       "<text text-anchor=\"start\" x=\"649.3311\" y=\"-148.8\" font-family=\"Helvetica,sans-Serif\" font-size=\"14.00\" fill=\"#000000\">gini = 0.2099</text>\n",
       "<text text-anchor=\"start\" x=\"643.8931\" y=\"-134.8\" font-family=\"Helvetica,sans-Serif\" font-size=\"14.00\" fill=\"#000000\">samples = 730</text>\n",
       "<text text-anchor=\"start\" x=\"637.6587\" y=\"-120.8\" font-family=\"Helvetica,sans-Serif\" font-size=\"14.00\" fill=\"#000000\">value = [87, 643]</text>\n",
       "<text text-anchor=\"start\" x=\"633\" y=\"-106.8\" font-family=\"Helvetica,sans-Serif\" font-size=\"14.00\" fill=\"#000000\">class = Poisonous</text>\n",
       "</g>\n",
       "<!-- 8&#45;&gt;10 -->\n",
       "<g id=\"edge10\" class=\"edge\">\n",
       "<title>8&#45;&gt;10</title>\n",
       "<path fill=\"none\" stroke=\"#000000\" d=\"M594.516,-213.7677C606.4777,-204.3633 619.3513,-194.242 631.6439,-184.5775\"/>\n",
       "<polygon fill=\"#000000\" stroke=\"#000000\" points=\"633.9244,-187.2368 639.6225,-178.3046 629.5979,-181.7338 633.9244,-187.2368\"/>\n",
       "</g>\n",
       "<!-- 11 -->\n",
       "<g id=\"node12\" class=\"node\">\n",
       "<title>11</title>\n",
       "<path fill=\"#e58139\" fill-opacity=\"0.701961\" stroke=\"#000000\" d=\"M715.7423,-64C715.7423,-64 627.4882,-64 627.4882,-64 621.4882,-64 615.4882,-58 615.4882,-52 615.4882,-52 615.4882,-12 615.4882,-12 615.4882,-6 621.4882,0 627.4882,0 627.4882,0 715.7423,0 715.7423,0 721.7423,0 727.7423,-6 727.7423,-12 727.7423,-12 727.7423,-52 727.7423,-52 727.7423,-58 721.7423,-64 715.7423,-64\"/>\n",
       "<text text-anchor=\"start\" x=\"631.3311\" y=\"-48.8\" font-family=\"Helvetica,sans-Serif\" font-size=\"14.00\" fill=\"#000000\">gini = 0.3543</text>\n",
       "<text text-anchor=\"start\" x=\"626.4092\" y=\"-34.8\" font-family=\"Helvetica,sans-Serif\" font-size=\"14.00\" fill=\"#000000\">samples = 113</text>\n",
       "<text text-anchor=\"start\" x=\"623.5518\" y=\"-20.8\" font-family=\"Helvetica,sans-Serif\" font-size=\"14.00\" fill=\"#000000\">value = [87, 26]</text>\n",
       "<text text-anchor=\"start\" x=\"633.2896\" y=\"-6.8\" font-family=\"Helvetica,sans-Serif\" font-size=\"14.00\" fill=\"#000000\">class = Safe</text>\n",
       "</g>\n",
       "<!-- 10&#45;&gt;11 -->\n",
       "<g id=\"edge11\" class=\"edge\">\n",
       "<title>10&#45;&gt;11</title>\n",
       "<path fill=\"none\" stroke=\"#000000\" d=\"M683.0149,-99.7647C681.6168,-91.4537 680.1353,-82.6472 678.7194,-74.2305\"/>\n",
       "<polygon fill=\"#000000\" stroke=\"#000000\" points=\"682.1454,-73.4977 677.0349,-64.2169 675.2424,-74.659 682.1454,-73.4977\"/>\n",
       "</g>\n",
       "<!-- 12 -->\n",
       "<g id=\"node13\" class=\"node\">\n",
       "<title>12</title>\n",
       "<path fill=\"#399de5\" stroke=\"#000000\" d=\"M863.3459,-64C863.3459,-64 757.8846,-64 757.8846,-64 751.8846,-64 745.8846,-58 745.8846,-52 745.8846,-52 745.8846,-12 745.8846,-12 745.8846,-6 751.8846,0 757.8846,0 757.8846,0 863.3459,0 863.3459,0 869.3459,0 875.3459,-6 875.3459,-12 875.3459,-12 875.3459,-52 875.3459,-52 875.3459,-58 869.3459,-64 863.3459,-64\"/>\n",
       "<text text-anchor=\"start\" x=\"782.0103\" y=\"-48.8\" font-family=\"Helvetica,sans-Serif\" font-size=\"14.00\" fill=\"#000000\">gini = 0.0</text>\n",
       "<text text-anchor=\"start\" x=\"764.8931\" y=\"-34.8\" font-family=\"Helvetica,sans-Serif\" font-size=\"14.00\" fill=\"#000000\">samples = 617</text>\n",
       "<text text-anchor=\"start\" x=\"762.5518\" y=\"-20.8\" font-family=\"Helvetica,sans-Serif\" font-size=\"14.00\" fill=\"#000000\">value = [0, 617]</text>\n",
       "<text text-anchor=\"start\" x=\"754\" y=\"-6.8\" font-family=\"Helvetica,sans-Serif\" font-size=\"14.00\" fill=\"#000000\">class = Poisonous</text>\n",
       "</g>\n",
       "<!-- 10&#45;&gt;12 -->\n",
       "<g id=\"edge12\" class=\"edge\">\n",
       "<title>10&#45;&gt;12</title>\n",
       "<path fill=\"none\" stroke=\"#000000\" d=\"M733.9841,-99.7647C744.6219,-90.3577 755.9775,-80.316 766.5992,-70.9232\"/>\n",
       "<polygon fill=\"#000000\" stroke=\"#000000\" points=\"769.0104,-73.4632 774.1831,-64.2169 764.3733,-68.2194 769.0104,-73.4632\"/>\n",
       "</g>\n",
       "</g>\n",
       "</svg>\n"
      ],
      "text/plain": [
       "<graphviz.files.Source at 0x11531e978>"
      ]
     },
     "execution_count": 35,
     "metadata": {},
     "output_type": "execute_result"
    }
   ],
   "source": [
    "plot_tree(tree_classifier=decision_tree_classifier, \n",
    "          X_train=X_train, \n",
    "          class_names=['Safe', 'Poisonous'])"
   ]
  }
 ],
 "metadata": {
  "kernelspec": {
   "display_name": "Python 3",
   "language": "python",
   "name": "python3"
  },
  "language_info": {
   "codemirror_mode": {
    "name": "ipython",
    "version": 3
   },
   "file_extension": ".py",
   "mimetype": "text/x-python",
   "name": "python",
   "nbconvert_exporter": "python",
   "pygments_lexer": "ipython3",
   "version": "3.6.4"
  }
 },
 "nbformat": 4,
 "nbformat_minor": 2
}
